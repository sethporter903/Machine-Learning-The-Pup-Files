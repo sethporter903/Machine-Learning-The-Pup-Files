{
 "cells": [
  {
   "cell_type": "markdown",
   "metadata": {},
   "source": [
    "## Import Dependencies"
   ]
  },
  {
   "cell_type": "markdown",
   "metadata": {},
   "source": [
    "### Data Science Libraries"
   ]
  },
  {
   "cell_type": "code",
   "execution_count": 1,
   "metadata": {},
   "outputs": [],
   "source": [
    "%matplotlib inline\n",
    "import numpy as np\n",
    "import pandas as pd\n",
    "import matplotlib.pyplot as plt\n",
    "\n",
    "from tqdm import tqdm\n",
    "from sklearn.model_selection import train_test_split\n",
    "from sklearn.preprocessing import LabelEncoder"
   ]
  },
  {
   "cell_type": "markdown",
   "metadata": {},
   "source": [
    "### General Dependencies"
   ]
  },
  {
   "cell_type": "code",
   "execution_count": 2,
   "metadata": {},
   "outputs": [],
   "source": [
    "import os\n",
    "import random"
   ]
  },
  {
   "cell_type": "markdown",
   "metadata": {},
   "source": [
    "### Keras-specific Dependencies"
   ]
  },
  {
   "cell_type": "code",
   "execution_count": 3,
   "metadata": {},
   "outputs": [
    {
     "name": "stderr",
     "output_type": "stream",
     "text": [
      "Using TensorFlow backend.\n"
     ]
    }
   ],
   "source": [
    "import keras\n",
    "\n",
    "from keras.preprocessing import image\n",
    "from keras.models import Sequential\n",
    "from keras.layers import Dense, Dropout, Flatten\n",
    "from keras.layers import Conv2D, MaxPooling2D\n",
    "from keras.optimizers import SGD\n",
    "from keras.utils import to_categorical"
   ]
  },
  {
   "cell_type": "markdown",
   "metadata": {},
   "source": [
    "## Split the dataset into training and testing"
   ]
  },
  {
   "cell_type": "markdown",
   "metadata": {},
   "source": [
    "### Create key-value pair mapping for Dog ID and breed"
   ]
  },
  {
   "cell_type": "code",
   "execution_count": 4,
   "metadata": {},
   "outputs": [
    {
     "name": "stdout",
     "output_type": "stream",
     "text": [
      "n02085620: Chihuahua\n",
      "n02085782: Japanese Spaniel\n",
      "n02085936: Maltese\n",
      "n02086079: Pekinese\n",
      "n02086240: Shih Tzu\n",
      "n02086646: Blenheim Spaniel\n",
      "n02086910: Papillion\n",
      "n02087046: Toy Terrier\n",
      "n02087394: Rhodesian Ridgeback\n",
      "n02088094: Afghan Hound\n",
      "n02088238: Basset Hound\n",
      "n02088364: Beagle\n",
      "n02088466: Bloodhound\n",
      "n02088632: Bluetick\n",
      "n02089078: Black And Tan Coonhound\n",
      "n02089867: Walker Hound\n",
      "n02089973: English Foxhound\n",
      "n02090379: Redbone\n",
      "n02090622: Borzoi\n",
      "n02090721: Irish Wolfhound\n",
      "n02091032: Italian Greyhound\n",
      "n02091134: Whippet\n",
      "n02091244: Ibizan Hound\n",
      "n02091467: Norwegian Elkhound\n",
      "n02091635: Otterhound\n",
      "n02091831: Saluki\n",
      "n02092002: Scottish Deerhound\n",
      "n02092339: Weimaraner\n",
      "n02093256: Staffordshire Bullterrier\n",
      "n02093428: American Staffordshire Terrier\n",
      "n02093647: Bedlington Terrier\n",
      "n02093754: Border Terrier\n",
      "n02093859: Kerry Blue Terrier\n",
      "n02093991: Irish Terrier\n",
      "n02094114: Norfolk Terrier\n",
      "n02094258: Norwich Terrier\n",
      "n02094433: Yorkshire Terrier\n",
      "n02095314: Wirehaired Fox Terrier\n",
      "n02095570: Lakeland Terrier\n",
      "n02095889: Sealyham Terrier\n",
      "n02096051: Airedale\n",
      "n02096177: Cairn\n",
      "n02096294: Australian Terrier\n",
      "n02096437: Dandie Dinmont\n",
      "n02096585: Boston Bulldog\n",
      "n02097047: Miniature Schnauzer\n",
      "n02097130: Giant Schnauzer\n",
      "n02097209: Standard Schnauzer\n",
      "n02097298: Scotch Terrier\n",
      "n02097474: Tibetan Terrier\n",
      "n02097658: Silky Terrier\n",
      "n02098105: Soft Coated Wheaten Terrier\n",
      "n02098286: West Highland White Terrier\n",
      "n02098413: Lhasa Apso\n",
      "n02099267: Flat Coated Retriever\n",
      "n02099429: Curly Coated Retriever\n",
      "n02099601: Golden Retriever\n",
      "n02099712: Labrador Retriever\n",
      "n02099849: Chesapeake Bay Retriever\n",
      "n02100236: German Short Haired Pointer\n",
      "n02100583: Vizsla\n",
      "n02100735: English Setter\n",
      "n02100877: Irish Setter\n",
      "n02101006: Gordon Setter\n",
      "n02101388: Brittany Spaniel\n",
      "n02101556: Clumber\n",
      "n02102040: English Springer\n",
      "n02102177: Welsh Springer Spaniel\n",
      "n02102318: Cocker Spaniel\n",
      "n02102480: Sussex Spaniel\n",
      "n02102973: Irish Water Spaniel\n",
      "n02104029: Kuvasz\n",
      "n02104365: Schipperke\n",
      "n02105056: Groenendael\n",
      "n02105162: Malinois\n",
      "n02105251: Briard\n",
      "n02105412: Kelpie\n",
      "n02105505: Komondor\n",
      "n02105641: Old English Sheepdog\n",
      "n02105855: Shetland Sheepdog\n",
      "n02106030: Collie\n",
      "n02106166: Border Collie\n",
      "n02106382: Bouvier Des Flandres\n",
      "n02106550: Rottweiler\n",
      "n02106662: German Shephard\n",
      "n02107142: Doberman\n",
      "n02107312: Miniature Pinscher\n",
      "n02107574: Great Swiss Mountain Dog\n",
      "n02107683: Bernese Mountain Dog\n",
      "n02107908: Appenzeller\n",
      "n02108000: EntleBucher\n",
      "n02108089: Boxer\n",
      "n02108422: Bull Mastiff\n",
      "n02108551: Tibetan Mastiff\n",
      "n02108915: French Bulldog\n",
      "n02109047: Great Dane\n",
      "n02109525: Saint Bernard\n",
      "n02109961: Eskimo Dog\n",
      "n02110063: Alaskan Malamute\n",
      "n02110185: Siberian Husky\n",
      "n02110627: Affenpinscher\n",
      "n02110806: Basenji\n",
      "n02110958: Pug\n",
      "n02111129: Leonberg\n",
      "n02111277: Newfoundland Terrier\n",
      "n02111500: Great Pyrenees\n",
      "n02111889: Samoyed\n",
      "n02112018: Pomeranian\n",
      "n02112137: Chow\n",
      "n02112350: Keeshond\n",
      "n02112706: Brabancon Griffon\n",
      "n02113023: Pembroke Corgi\n",
      "n02113186: Cardigan Corgi\n",
      "n02113624: Toy Poodle\n",
      "n02113712: Miniature Poodle\n",
      "n02113799: Standard Poodle\n",
      "n02113978: Mexican Hairless\n",
      "n02115641: Dingo\n",
      "n02115913: Dhole\n",
      "n02116738: African Hunting Dog\n"
     ]
    }
   ],
   "source": [
    "# Create separate lists for dog ids and dog breeds\n",
    "root = \"/Users/krithika/Desktop/GitHub Repositories/The-Pup-Files/\"\n",
    "\n",
    "dog_breeds = ['Chihuahua', 'Japanese Spaniel', 'Maltese', 'Pekinese', 'Shih Tzu', 'Blenheim Spaniel', 'Papillion', \n",
    "              'Toy Terrier', 'Rhodesian Ridgeback', 'Afghan Hound', 'Basset Hound', 'Beagle', 'Bloodhound', \n",
    "              'Bluetick', 'Black And Tan Coonhound', 'Walker Hound', 'English Foxhound', 'Redbone', 'Borzoi', \n",
    "              'Irish Wolfhound', 'Italian Greyhound', 'Whippet', 'Ibizan Hound', 'Norwegian Elkhound', 'Otterhound',\n",
    "              'Saluki', 'Scottish Deerhound', 'Weimaraner', 'Staffordshire Bullterrier', 'American Staffordshire Terrier', \n",
    "              'Bedlington Terrier', 'Border Terrier', 'Kerry Blue Terrier', 'Irish Terrier', 'Norfolk Terrier', \n",
    "              'Norwich Terrier', 'Yorkshire Terrier', 'Wirehaired Fox Terrier', 'Lakeland Terrier', 'Sealyham Terrier', \n",
    "              'Airedale', 'Cairn', 'Australian Terrier', 'Dandie Dinmont', 'Boston Bulldog', 'Miniature Schnauzer', \n",
    "              'Giant Schnauzer', 'Standard Schnauzer', 'Scotch Terrier', 'Tibetan Terrier', 'Silky Terrier', \n",
    "              'Soft Coated Wheaten Terrier', 'West Highland White Terrier', 'Lhasa Apso', 'Flat Coated Retriever', \n",
    "              'Curly Coated Retriever', 'Golden Retriever', 'Labrador Retriever', 'Chesapeake Bay Retriever', \n",
    "              'German Short Haired Pointer', 'Vizsla', 'English Setter', 'Irish Setter', 'Gordon Setter', \n",
    "              'Brittany Spaniel', 'Clumber', 'English Springer', 'Welsh Springer Spaniel', 'Cocker Spaniel', 'Sussex Spaniel', \n",
    "              'Irish Water Spaniel', 'Kuvasz', 'Schipperke', 'Groenendael', 'Malinois', 'Briard', 'Kelpie', 'Komondor', \n",
    "              'Old English Sheepdog', 'Shetland Sheepdog', 'Collie', 'Border Collie', 'Bouvier Des Flandres', 'Rottweiler', \n",
    "              'German Shephard', 'Doberman', 'Miniature Pinscher', 'Great Swiss Mountain Dog', 'Bernese Mountain Dog', \n",
    "              'Appenzeller', 'EntleBucher', 'Boxer', 'Bull Mastiff', 'Tibetan Mastiff', 'French Bulldog', 'Great Dane', \n",
    "              'Saint Bernard', 'Eskimo Dog', 'Alaskan Malamute', 'Siberian Husky', 'Affenpinscher', 'Basenji', 'Pug', \n",
    "              'Leonberg', 'Newfoundland Terrier', 'Great Pyrenees', 'Samoyed', 'Pomeranian', 'Chow', 'Keeshond', \n",
    "              'Brabancon Griffon', 'Pembroke Corgi', 'Cardigan Corgi', 'Toy Poodle', 'Miniature Poodle', 'Standard Poodle', \n",
    "              'Mexican Hairless', 'Dingo', 'Dhole', 'African Hunting Dog']\n",
    "\n",
    "dog_ids = []\n",
    "\n",
    "folder_names = sorted(os.listdir(root + \"Dataset/Images/\"))\n",
    "folder_names.remove('.DS_Store')\n",
    "\n",
    "for fpath in folder_names:\n",
    "    dog_ids.append(fpath.split(\"-\")[0])\n",
    "    \n",
    "dog_ids_breeds = dict(zip(dog_ids, dog_breeds))\n",
    "\n",
    "for key, value in dog_ids_breeds.items():\n",
    "    print(f\"{key}: {value}\")"
   ]
  },
  {
   "cell_type": "markdown",
   "metadata": {},
   "source": [
    "### Display number of images per breed"
   ]
  },
  {
   "cell_type": "code",
   "execution_count": 5,
   "metadata": {},
   "outputs": [
    {
     "name": "stdout",
     "output_type": "stream",
     "text": [
      "n02085620-Chihuahua: 152\n",
      "n02085782-Japanese_spaniel: 185\n",
      "n02085936-Maltese_dog: 252\n",
      "n02086079-Pekinese: 149\n",
      "n02086240-Shih-Tzu: 214\n",
      "n02086646-Blenheim_spaniel: 188\n",
      "n02086910-papillon: 196\n",
      "n02087046-toy_terrier: 172\n",
      "n02087394-Rhodesian_ridgeback: 172\n",
      "n02088094-Afghan_hound: 239\n",
      "n02088238-basset: 175\n",
      "n02088364-beagle: 195\n",
      "n02088466-bloodhound: 187\n",
      "n02088632-bluetick: 171\n",
      "n02089078-black-and-tan_coonhound: 159\n",
      "n02089867-Walker_hound: 153\n",
      "n02089973-English_foxhound: 157\n",
      "n02090379-redbone: 148\n",
      "n02090622-borzoi: 151\n",
      "n02090721-Irish_wolfhound: 218\n",
      "n02091032-Italian_greyhound: 182\n",
      "n02091134-whippet: 187\n",
      "n02091244-Ibizan_hound: 188\n",
      "n02091467-Norwegian_elkhound: 196\n",
      "n02091635-otterhound: 151\n",
      "n02091831-Saluki: 200\n",
      "n02092002-Scottish_deerhound: 232\n",
      "n02092339-Weimaraner: 160\n",
      "n02093256-Staffordshire_bullterrier: 155\n",
      "n02093428-American_Staffordshire_terrier: 164\n",
      "n02093647-Bedlington_terrier: 182\n",
      "n02093754-Border_terrier: 172\n",
      "n02093859-Kerry_blue_terrier: 179\n",
      "n02093991-Irish_terrier: 169\n",
      "n02094114-Norfolk_terrier: 172\n",
      "n02094258-Norwich_terrier: 185\n",
      "n02094433-Yorkshire_terrier: 164\n",
      "n02095314-wire-haired_fox_terrier: 157\n",
      "n02095570-Lakeland_terrier: 197\n",
      "n02095889-Sealyham_terrier: 202\n",
      "n02096051-Airedale: 202\n",
      "n02096177-cairn: 197\n",
      "n02096294-Australian_terrier: 196\n",
      "n02096437-Dandie_Dinmont: 180\n",
      "n02096585-Boston_bull: 182\n",
      "n02097047-miniature_schnauzer: 154\n",
      "n02097130-giant_schnauzer: 157\n",
      "n02097209-standard_schnauzer: 155\n",
      "n02097298-Scotch_terrier: 158\n",
      "n02097474-Tibetan_terrier: 206\n",
      "n02097658-silky_terrier: 183\n",
      "n02098105-soft-coated_wheaten_terrier: 156\n",
      "n02098286-West_Highland_white_terrier: 169\n",
      "n02098413-Lhasa: 186\n",
      "n02099267-flat-coated_retriever: 152\n",
      "n02099429-curly-coated_retriever: 151\n",
      "n02099601-golden_retriever: 150\n",
      "n02099712-Labrador_retriever: 171\n",
      "n02099849-Chesapeake_Bay_retriever: 167\n",
      "n02100236-German_short-haired_pointer: 152\n",
      "n02100583-vizsla: 154\n",
      "n02100735-English_setter: 161\n",
      "n02100877-Irish_setter: 155\n",
      "n02101006-Gordon_setter: 153\n",
      "n02101388-Brittany_spaniel: 152\n",
      "n02101556-clumber: 150\n",
      "n02102040-English_springer: 159\n",
      "n02102177-Welsh_springer_spaniel: 150\n",
      "n02102318-cocker_spaniel: 159\n",
      "n02102480-Sussex_spaniel: 151\n",
      "n02102973-Irish_water_spaniel: 150\n",
      "n02104029-kuvasz: 150\n",
      "n02104365-schipperke: 154\n",
      "n02105056-groenendael: 150\n",
      "n02105162-malinois: 150\n",
      "n02105251-briard: 152\n",
      "n02105412-kelpie: 153\n",
      "n02105505-komondor: 154\n",
      "n02105641-Old_English_sheepdog: 169\n",
      "n02105855-Shetland_sheepdog: 157\n",
      "n02106030-collie: 153\n",
      "n02106166-Border_collie: 150\n",
      "n02106382-Bouvier_des_Flandres: 150\n",
      "n02106550-Rottweiler: 152\n",
      "n02106662-German_shepherd: 152\n",
      "n02107142-Doberman: 150\n",
      "n02107312-miniature_pinscher: 184\n",
      "n02107574-Greater_Swiss_Mountain_dog: 168\n",
      "n02107683-Bernese_mountain_dog: 218\n",
      "n02107908-Appenzeller: 151\n",
      "n02108000-EntleBucher: 202\n",
      "n02108089-boxer: 151\n",
      "n02108422-bull_mastiff: 156\n",
      "n02108551-Tibetan_mastiff: 152\n",
      "n02108915-French_bulldog: 159\n",
      "n02109047-Great_Dane: 156\n",
      "n02109525-Saint_Bernard: 170\n",
      "n02109961-Eskimo_dog: 150\n",
      "n02110063-malamute: 178\n",
      "n02110185-Siberian_husky: 192\n",
      "n02110627-affenpinscher: 150\n",
      "n02110806-basenji: 209\n",
      "n02110958-pug: 200\n",
      "n02111129-Leonberg: 210\n",
      "n02111277-Newfoundland: 195\n",
      "n02111500-Great_Pyrenees: 213\n",
      "n02111889-Samoyed: 218\n",
      "n02112018-Pomeranian: 219\n",
      "n02112137-chow: 196\n",
      "n02112350-keeshond: 158\n",
      "n02112706-Brabancon_griffon: 153\n",
      "n02113023-Pembroke: 181\n",
      "n02113186-Cardigan: 155\n",
      "n02113624-toy_poodle: 151\n",
      "n02113712-miniature_poodle: 155\n",
      "n02113799-standard_poodle: 159\n",
      "n02113978-Mexican_hairless: 155\n",
      "n02115641-dingo: 156\n",
      "n02115913-dhole: 150\n",
      "n02116738-African_hunting_dog: 169\n"
     ]
    }
   ],
   "source": [
    "for file in folder_names:\n",
    "    length = len(os.listdir(root + \"/Dataset/Images/\" + file))\n",
    "    print(f\"{file}: {length}\")"
   ]
  },
  {
   "cell_type": "markdown",
   "metadata": {},
   "source": [
    "### Create training images dataframe"
   ]
  },
  {
   "cell_type": "code",
   "execution_count": 6,
   "metadata": {},
   "outputs": [
    {
     "data": {
      "text/html": [
       "<div>\n",
       "<style scoped>\n",
       "    .dataframe tbody tr th:only-of-type {\n",
       "        vertical-align: middle;\n",
       "    }\n",
       "\n",
       "    .dataframe tbody tr th {\n",
       "        vertical-align: top;\n",
       "    }\n",
       "\n",
       "    .dataframe thead th {\n",
       "        text-align: right;\n",
       "    }\n",
       "</style>\n",
       "<table border=\"1\" class=\"dataframe\">\n",
       "  <thead>\n",
       "    <tr style=\"text-align: right;\">\n",
       "      <th></th>\n",
       "      <th>filepath</th>\n",
       "      <th>label</th>\n",
       "    </tr>\n",
       "  </thead>\n",
       "  <tbody>\n",
       "    <tr>\n",
       "      <th>0</th>\n",
       "      <td>n02085620-Chihuahua/n02085620_13383.jpg</td>\n",
       "      <td>Chihuahua</td>\n",
       "    </tr>\n",
       "    <tr>\n",
       "      <th>1</th>\n",
       "      <td>n02085620-Chihuahua/n02085620_11258.jpg</td>\n",
       "      <td>Chihuahua</td>\n",
       "    </tr>\n",
       "    <tr>\n",
       "      <th>2</th>\n",
       "      <td>n02085620-Chihuahua/n02085620_4016.jpg</td>\n",
       "      <td>Chihuahua</td>\n",
       "    </tr>\n",
       "    <tr>\n",
       "      <th>3</th>\n",
       "      <td>n02085620-Chihuahua/n02085620_3593.jpg</td>\n",
       "      <td>Chihuahua</td>\n",
       "    </tr>\n",
       "    <tr>\n",
       "      <th>4</th>\n",
       "      <td>n02085620-Chihuahua/n02085620_5713.jpg</td>\n",
       "      <td>Chihuahua</td>\n",
       "    </tr>\n",
       "  </tbody>\n",
       "</table>\n",
       "</div>"
      ],
      "text/plain": [
       "                                  filepath      label\n",
       "0  n02085620-Chihuahua/n02085620_13383.jpg  Chihuahua\n",
       "1  n02085620-Chihuahua/n02085620_11258.jpg  Chihuahua\n",
       "2   n02085620-Chihuahua/n02085620_4016.jpg  Chihuahua\n",
       "3   n02085620-Chihuahua/n02085620_3593.jpg  Chihuahua\n",
       "4   n02085620-Chihuahua/n02085620_5713.jpg  Chihuahua"
      ]
     },
     "execution_count": 6,
     "metadata": {},
     "output_type": "execute_result"
    }
   ],
   "source": [
    "# Pull 80% of images per breed for training\n",
    "train_file_list = []\n",
    "train_labels = []\n",
    "\n",
    "folder_names = sorted(os.listdir(root + \"/Dataset/Images/\"))\n",
    "folder_names.remove('.DS_Store')\n",
    "\n",
    "for folder_path in folder_names:\n",
    "    file_names = sorted(os.listdir(root + \"/Dataset/Images/\" + folder_path))\n",
    "    random.shuffle(file_names)\n",
    "    n = int(len(file_names) * 0.8)\n",
    "    file_names = np.random.choice(file_names, n)\n",
    "    for filepath in file_names: \n",
    "        d_id = filepath.split(\"_\")[0]\n",
    "        train_file_list.append(folder_path + \"/\" + filepath)\n",
    "        train_labels.append(dog_ids_breeds[d_id])\n",
    "\n",
    "# Create a dataframe with filepaths and breed labels\n",
    "train_df = pd.DataFrame({\"filepath\": train_file_list, \"label\": train_labels})\n",
    "train_df.head()"
   ]
  },
  {
   "cell_type": "markdown",
   "metadata": {},
   "source": [
    "### Create testing images dataframe"
   ]
  },
  {
   "cell_type": "code",
   "execution_count": 7,
   "metadata": {},
   "outputs": [
    {
     "data": {
      "text/html": [
       "<div>\n",
       "<style scoped>\n",
       "    .dataframe tbody tr th:only-of-type {\n",
       "        vertical-align: middle;\n",
       "    }\n",
       "\n",
       "    .dataframe tbody tr th {\n",
       "        vertical-align: top;\n",
       "    }\n",
       "\n",
       "    .dataframe thead th {\n",
       "        text-align: right;\n",
       "    }\n",
       "</style>\n",
       "<table border=\"1\" class=\"dataframe\">\n",
       "  <thead>\n",
       "    <tr style=\"text-align: right;\">\n",
       "      <th></th>\n",
       "      <th>filepath</th>\n",
       "    </tr>\n",
       "  </thead>\n",
       "  <tbody>\n",
       "    <tr>\n",
       "      <th>0</th>\n",
       "      <td>n02085620-Chihuahua/n02085620_4515.jpg</td>\n",
       "    </tr>\n",
       "    <tr>\n",
       "      <th>1</th>\n",
       "      <td>n02085620-Chihuahua/n02085620_3208.jpg</td>\n",
       "    </tr>\n",
       "    <tr>\n",
       "      <th>2</th>\n",
       "      <td>n02085620-Chihuahua/n02085620_574.jpg</td>\n",
       "    </tr>\n",
       "    <tr>\n",
       "      <th>3</th>\n",
       "      <td>n02085620-Chihuahua/n02085620_730.jpg</td>\n",
       "    </tr>\n",
       "    <tr>\n",
       "      <th>4</th>\n",
       "      <td>n02085620-Chihuahua/n02085620_3033.jpg</td>\n",
       "    </tr>\n",
       "  </tbody>\n",
       "</table>\n",
       "</div>"
      ],
      "text/plain": [
       "                                 filepath\n",
       "0  n02085620-Chihuahua/n02085620_4515.jpg\n",
       "1  n02085620-Chihuahua/n02085620_3208.jpg\n",
       "2   n02085620-Chihuahua/n02085620_574.jpg\n",
       "3   n02085620-Chihuahua/n02085620_730.jpg\n",
       "4  n02085620-Chihuahua/n02085620_3033.jpg"
      ]
     },
     "execution_count": 7,
     "metadata": {},
     "output_type": "execute_result"
    }
   ],
   "source": [
    "# Pull 20% of images per breed for testing\n",
    "test_file_list = []\n",
    "\n",
    "folder_names = sorted(os.listdir(root + \"/Dataset/Images/\"))\n",
    "folder_names.remove('.DS_Store')\n",
    "\n",
    "for folder_path in folder_names:\n",
    "    file_names = sorted(os.listdir(root + \"/Dataset/Images/\" + folder_path))\n",
    "    random.shuffle(file_names)\n",
    "    n = int(len(file_names) * 0.2)\n",
    "    file_names = np.random.choice(file_names, n)\n",
    "    for filepath in file_names: \n",
    "        test_file_list.append(folder_path + \"/\" + filepath)\n",
    "\n",
    "# Create a dataframe with filepaths and breed labels\n",
    "test_df = pd.DataFrame({\"filepath\": test_file_list})\n",
    "test_df.head()\n",
    "\n",
    "# all_file_names = sorted(os.listdir(root + \"/Dataset/Images/\" + folder_path))\n",
    "# file_names = [file for file in all_file_names if file not in train_file_list]"
   ]
  },
  {
   "cell_type": "markdown",
   "metadata": {},
   "source": [
    "### Create array representations for all training images"
   ]
  },
  {
   "cell_type": "code",
   "execution_count": 8,
   "metadata": {},
   "outputs": [
    {
     "name": "stderr",
     "output_type": "stream",
     "text": [
      "100%|██████████| 16418/16418 [01:16<00:00, 215.94it/s]\n"
     ]
    }
   ],
   "source": [
    "os.chdir(root + \"/Dataset/Images/\")\n",
    "train_images = []\n",
    "\n",
    "for i in tqdm(range(train_df.shape[0])):\n",
    "    img = image.load_img(train_df['filepath'][i], target_size=(100, 100, 3), \\\n",
    "            grayscale=False)\n",
    "    img = image.img_to_array(img)\n",
    "    img = img / 255\n",
    "    train_images.append(img)\n",
    "    \n",
    "X_train = np.array(train_images)    "
   ]
  },
  {
   "cell_type": "markdown",
   "metadata": {},
   "source": [
    "### Create array representations for all testing images"
   ]
  },
  {
   "cell_type": "code",
   "execution_count": 9,
   "metadata": {},
   "outputs": [
    {
     "name": "stderr",
     "output_type": "stream",
     "text": [
      "100%|██████████| 4072/4072 [00:21<00:00, 186.34it/s]\n"
     ]
    }
   ],
   "source": [
    "os.chdir(root + \"/Dataset/Images/\")\n",
    "test_images = []\n",
    "\n",
    "for i in tqdm(range(test_df.shape[0])):\n",
    "    img = image.load_img(test_df['filepath'][i], target_size=(100, 100, 3), \\\n",
    "            grayscale=False)\n",
    "    img = image.img_to_array(img)\n",
    "    img = img / 255\n",
    "    test_images.append(img)\n",
    "    \n",
    "X_test = np.array(test_images)"
   ]
  },
  {
   "cell_type": "markdown",
   "metadata": {},
   "source": [
    "### Create categories and one-hot encoded labels"
   ]
  },
  {
   "cell_type": "code",
   "execution_count": 10,
   "metadata": {},
   "outputs": [],
   "source": [
    "y_train = train_df[\"label\"].values\n",
    "unique_labels = []\n",
    "unique_categories = []\n",
    "\n",
    "# Step-1: Perform Label Encoding\n",
    "label_encoder = LabelEncoder()\n",
    "label_encoder.fit(y_train)\n",
    "encoded_y = label_encoder.transform(y_train)\n",
    "\n",
    "for label, encoded_label in zip(y_train, encoded_y):\n",
    "    if label not in unique_labels:\n",
    "        unique_labels.append(label)\n",
    "    if encoded_label not in unique_categories:\n",
    "        unique_categories.append(encoded_label)\n",
    "\n",
    "# Create a dictionary mapping encoded labels to dog breeds\n",
    "dog_labels_categories = dict(zip(unique_categories, unique_labels))\n",
    "\n",
    "y_train = encoded_y\n",
    "\n",
    "# Step-2: Perform One-Hot Encoding\n",
    "y_train = to_categorical(y_train)"
   ]
  },
  {
   "cell_type": "markdown",
   "metadata": {},
   "source": [
    "### Display the mapping from dog breed to label-encoded value"
   ]
  },
  {
   "cell_type": "code",
   "execution_count": 11,
   "metadata": {},
   "outputs": [
    {
     "name": "stdout",
     "output_type": "stream",
     "text": [
      "30: Chihuahua\n",
      "62: Japanese Spaniel\n",
      "73: Maltese\n",
      "85: Pekinese\n",
      "100: Shih Tzu\n",
      "14: Blenheim Spaniel\n",
      "84: Papillion\n",
      "111: Toy Terrier\n",
      "90: Rhodesian Ridgeback\n",
      "1: Afghan Hound\n",
      "9: Basset Hound\n",
      "10: Beagle\n",
      "15: Bloodhound\n",
      "16: Bluetick\n",
      "13: Black And Tan Coonhound\n",
      "113: Walker Hound\n",
      "40: English Foxhound\n",
      "89: Redbone\n",
      "19: Borzoi\n",
      "60: Irish Wolfhound\n",
      "61: Italian Greyhound\n",
      "117: Whippet\n",
      "56: Ibizan Hound\n",
      "80: Norwegian Elkhound\n",
      "83: Otterhound\n",
      "93: Saluki\n",
      "97: Scottish Deerhound\n",
      "114: Weimaraner\n",
      "104: Staffordshire Bullterrier\n",
      "5: American Staffordshire Terrier\n",
      "11: Bedlington Terrier\n",
      "18: Border Terrier\n",
      "65: Kerry Blue Terrier\n",
      "58: Irish Terrier\n",
      "79: Norfolk Terrier\n",
      "81: Norwich Terrier\n",
      "119: Yorkshire Terrier\n",
      "118: Wirehaired Fox Terrier\n",
      "69: Lakeland Terrier\n",
      "98: Sealyham Terrier\n",
      "3: Airedale\n",
      "27: Cairn\n",
      "7: Australian Terrier\n",
      "36: Dandie Dinmont\n",
      "20: Boston Bulldog\n",
      "77: Miniature Schnauzer\n",
      "49: Giant Schnauzer\n",
      "106: Standard Schnauzer\n",
      "96: Scotch Terrier\n",
      "109: Tibetan Terrier\n",
      "102: Silky Terrier\n",
      "103: Soft Coated Wheaten Terrier\n",
      "116: West Highland White Terrier\n",
      "71: Lhasa Apso\n",
      "45: Flat Coated Retriever\n",
      "35: Curly Coated Retriever\n",
      "50: Golden Retriever\n",
      "68: Labrador Retriever\n",
      "29: Chesapeake Bay Retriever\n",
      "48: German Short Haired Pointer\n",
      "112: Vizsla\n",
      "41: English Setter\n",
      "57: Irish Setter\n",
      "51: Gordon Setter\n",
      "25: Brittany Spaniel\n",
      "32: Clumber\n",
      "42: English Springer\n",
      "115: Welsh Springer Spaniel\n",
      "33: Cocker Spaniel\n",
      "107: Sussex Spaniel\n",
      "59: Irish Water Spaniel\n",
      "67: Kuvasz\n",
      "95: Schipperke\n",
      "55: Groenendael\n",
      "72: Malinois\n",
      "24: Briard\n",
      "64: Kelpie\n",
      "66: Komondor\n",
      "82: Old English Sheepdog\n",
      "99: Shetland Sheepdog\n",
      "34: Collie\n",
      "17: Border Collie\n",
      "21: Bouvier Des Flandres\n",
      "91: Rottweiler\n",
      "47: German Shephard\n",
      "39: Doberman\n",
      "75: Miniature Pinscher\n",
      "54: Great Swiss Mountain Dog\n",
      "12: Bernese Mountain Dog\n",
      "6: Appenzeller\n",
      "43: EntleBucher\n",
      "22: Boxer\n",
      "26: Bull Mastiff\n",
      "108: Tibetan Mastiff\n",
      "46: French Bulldog\n",
      "52: Great Dane\n",
      "92: Saint Bernard\n",
      "44: Eskimo Dog\n",
      "4: Alaskan Malamute\n",
      "101: Siberian Husky\n",
      "0: Affenpinscher\n",
      "8: Basenji\n",
      "88: Pug\n",
      "70: Leonberg\n",
      "78: Newfoundland Terrier\n",
      "53: Great Pyrenees\n",
      "94: Samoyed\n",
      "87: Pomeranian\n",
      "31: Chow\n",
      "63: Keeshond\n",
      "23: Brabancon Griffon\n",
      "86: Pembroke Corgi\n",
      "28: Cardigan Corgi\n",
      "110: Toy Poodle\n",
      "76: Miniature Poodle\n",
      "105: Standard Poodle\n",
      "74: Mexican Hairless\n",
      "38: Dingo\n",
      "37: Dhole\n",
      "2: African Hunting Dog\n"
     ]
    }
   ],
   "source": [
    "for key, value in dog_labels_categories.items():\n",
    "    print(f\"{key}: {value}\")"
   ]
  },
  {
   "cell_type": "markdown",
   "metadata": {},
   "source": [
    "### Display the shape of train and test variables"
   ]
  },
  {
   "cell_type": "code",
   "execution_count": 12,
   "metadata": {},
   "outputs": [
    {
     "name": "stdout",
     "output_type": "stream",
     "text": [
      "(16418, 100, 100, 3)\n",
      "(16418, 120)\n",
      "(4072, 100, 100, 3)\n"
     ]
    }
   ],
   "source": [
    "print(X_train.shape)\n",
    "print(y_train.shape)\n",
    "print(X_test.shape)"
   ]
  },
  {
   "cell_type": "markdown",
   "metadata": {},
   "source": [
    "## Build the Model"
   ]
  },
  {
   "cell_type": "markdown",
   "metadata": {},
   "source": [
    "### Define the model structure"
   ]
  },
  {
   "cell_type": "code",
   "execution_count": 13,
   "metadata": {},
   "outputs": [
    {
     "name": "stdout",
     "output_type": "stream",
     "text": [
      "WARNING:tensorflow:From /anaconda3/lib/python3.7/site-packages/tensorflow/python/framework/op_def_library.py:263: colocate_with (from tensorflow.python.framework.ops) is deprecated and will be removed in a future version.\n",
      "Instructions for updating:\n",
      "Colocations handled automatically by placer.\n",
      "WARNING:tensorflow:From /anaconda3/lib/python3.7/site-packages/keras/backend/tensorflow_backend.py:3445: calling dropout (from tensorflow.python.ops.nn_ops) with keep_prob is deprecated and will be removed in a future version.\n",
      "Instructions for updating:\n",
      "Please use `rate` instead of `keep_prob`. Rate should be set to `rate = 1 - keep_prob`.\n"
     ]
    }
   ],
   "source": [
    "model = Sequential()\n",
    "\n",
    "model.add(Conv2D(32, (3, 3), activation='relu', input_shape=(100, 100, 3)))\n",
    "model.add(Conv2D(32, (3, 3), activation='relu'))\n",
    "model.add(MaxPooling2D(pool_size=(2, 2)))\n",
    "model.add(Dropout(0.25))\n",
    "\n",
    "model.add(Conv2D(64, (3, 3), activation='relu'))\n",
    "model.add(Conv2D(64, (3, 3), activation='relu'))\n",
    "model.add(MaxPooling2D(pool_size=(2, 2)))\n",
    "model.add(Dropout(0.25))\n",
    "\n",
    "model.add(Flatten())\n",
    "model.add(Dense(256, activation='relu'))\n",
    "model.add(Dropout(0.5))\n",
    "model.add(Dense(120, activation='softmax'))\n",
    "\n",
    "sgd = SGD(lr=0.01, decay=1e-6, momentum=0.9, nesterov=True)"
   ]
  },
  {
   "cell_type": "markdown",
   "metadata": {},
   "source": [
    "### Compile the model"
   ]
  },
  {
   "cell_type": "code",
   "execution_count": 14,
   "metadata": {},
   "outputs": [],
   "source": [
    "model.compile(loss='categorical_crossentropy', \n",
    "              optimizer='sgd',\n",
    "              metrics=['accuracy'])"
   ]
  },
  {
   "cell_type": "markdown",
   "metadata": {},
   "source": [
    "### Train the model"
   ]
  },
  {
   "cell_type": "code",
   "execution_count": 15,
   "metadata": {},
   "outputs": [
    {
     "name": "stdout",
     "output_type": "stream",
     "text": [
      "WARNING:tensorflow:From /anaconda3/lib/python3.7/site-packages/tensorflow/python/ops/math_ops.py:3066: to_int32 (from tensorflow.python.ops.math_ops) is deprecated and will be removed in a future version.\n",
      "Instructions for updating:\n",
      "Use tf.cast instead.\n",
      "Epoch 1/25\n",
      "16418/16418 [==============================] - 464s 28ms/step - loss: 4.7870 - acc: 0.0086\n",
      "Epoch 2/25\n",
      "16418/16418 [==============================] - 446s 27ms/step - loss: 4.7789 - acc: 0.0135\n",
      "Epoch 3/25\n",
      "16418/16418 [==============================] - 451s 27ms/step - loss: 4.7523 - acc: 0.0147\n",
      "Epoch 4/25\n",
      "16418/16418 [==============================] - 446s 27ms/step - loss: 4.7017 - acc: 0.0214\n",
      "Epoch 5/25\n",
      "16418/16418 [==============================] - 447s 27ms/step - loss: 4.6536 - acc: 0.0279\n",
      "Epoch 6/25\n",
      "16418/16418 [==============================] - 449s 27ms/step - loss: 4.5961 - acc: 0.0314\n",
      "Epoch 7/25\n",
      "16418/16418 [==============================] - 446s 27ms/step - loss: 4.5429 - acc: 0.0381\n",
      "Epoch 8/25\n",
      "16418/16418 [==============================] - 479s 29ms/step - loss: 4.4774 - acc: 0.0431\n",
      "Epoch 9/25\n",
      "16418/16418 [==============================] - 561s 34ms/step - loss: 4.3951 - acc: 0.0527\n",
      "Epoch 10/25\n",
      "16418/16418 [==============================] - 562s 34ms/step - loss: 4.3010 - acc: 0.0654\n",
      "Epoch 11/25\n",
      "16418/16418 [==============================] - 555s 34ms/step - loss: 4.1833 - acc: 0.0809\n",
      "Epoch 12/25\n",
      "16418/16418 [==============================] - 562s 34ms/step - loss: 4.0117 - acc: 0.1135\n",
      "Epoch 13/25\n",
      "16418/16418 [==============================] - 554s 34ms/step - loss: 3.8003 - acc: 0.1501\n",
      "Epoch 14/25\n",
      "16418/16418 [==============================] - 555s 34ms/step - loss: 3.5262 - acc: 0.2030\n",
      "Epoch 15/25\n",
      "16418/16418 [==============================] - 577s 35ms/step - loss: 3.1875 - acc: 0.2730\n",
      "Epoch 16/25\n",
      "16418/16418 [==============================] - 589s 36ms/step - loss: 2.8150 - acc: 0.3482\n",
      "Epoch 17/25\n",
      "16418/16418 [==============================] - 573s 35ms/step - loss: 2.4615 - acc: 0.4203\n",
      "Epoch 18/25\n",
      "16418/16418 [==============================] - 516s 31ms/step - loss: 2.1012 - acc: 0.4912\n",
      "Epoch 19/25\n",
      "16418/16418 [==============================] - 447s 27ms/step - loss: 1.8008 - acc: 0.5549\n",
      "Epoch 20/25\n",
      "16418/16418 [==============================] - 447s 27ms/step - loss: 1.5461 - acc: 0.6024\n",
      "Epoch 21/25\n",
      "16418/16418 [==============================] - 448s 27ms/step - loss: 1.2880 - acc: 0.6624\n",
      "Epoch 22/25\n",
      "16418/16418 [==============================] - 477s 29ms/step - loss: 1.1196 - acc: 0.6995\n",
      "Epoch 23/25\n",
      "16418/16418 [==============================] - 578s 35ms/step - loss: 0.9455 - acc: 0.7366\n",
      "Epoch 24/25\n",
      "16418/16418 [==============================] - 564s 34ms/step - loss: 0.8199 - acc: 0.7715\n",
      "Epoch 25/25\n",
      "16418/16418 [==============================] - 543s 33ms/step - loss: 0.7426 - acc: 0.7937\n"
     ]
    },
    {
     "data": {
      "text/plain": [
       "<keras.callbacks.History at 0x10f1812e8>"
      ]
     },
     "execution_count": 15,
     "metadata": {},
     "output_type": "execute_result"
    }
   ],
   "source": [
    "# Fit (train) the model\n",
    "model.fit(\n",
    "    X_train,\n",
    "    y_train,\n",
    "    batch_size=32,\n",
    "    epochs=25\n",
    ")"
   ]
  },
  {
   "cell_type": "code",
   "execution_count": 16,
   "metadata": {},
   "outputs": [
    {
     "name": "stdout",
     "output_type": "stream",
     "text": [
      "_________________________________________________________________\n",
      "Layer (type)                 Output Shape              Param #   \n",
      "=================================================================\n",
      "conv2d_1 (Conv2D)            (None, 98, 98, 32)        896       \n",
      "_________________________________________________________________\n",
      "conv2d_2 (Conv2D)            (None, 96, 96, 32)        9248      \n",
      "_________________________________________________________________\n",
      "max_pooling2d_1 (MaxPooling2 (None, 48, 48, 32)        0         \n",
      "_________________________________________________________________\n",
      "dropout_1 (Dropout)          (None, 48, 48, 32)        0         \n",
      "_________________________________________________________________\n",
      "conv2d_3 (Conv2D)            (None, 46, 46, 64)        18496     \n",
      "_________________________________________________________________\n",
      "conv2d_4 (Conv2D)            (None, 44, 44, 64)        36928     \n",
      "_________________________________________________________________\n",
      "max_pooling2d_2 (MaxPooling2 (None, 22, 22, 64)        0         \n",
      "_________________________________________________________________\n",
      "dropout_2 (Dropout)          (None, 22, 22, 64)        0         \n",
      "_________________________________________________________________\n",
      "flatten_1 (Flatten)          (None, 30976)             0         \n",
      "_________________________________________________________________\n",
      "dense_1 (Dense)              (None, 256)               7930112   \n",
      "_________________________________________________________________\n",
      "dropout_3 (Dropout)          (None, 256)               0         \n",
      "_________________________________________________________________\n",
      "dense_2 (Dense)              (None, 120)               30840     \n",
      "=================================================================\n",
      "Total params: 8,026,520\n",
      "Trainable params: 8,026,520\n",
      "Non-trainable params: 0\n",
      "_________________________________________________________________\n"
     ]
    }
   ],
   "source": [
    "# Print the model summary\n",
    "model.summary()"
   ]
  },
  {
   "cell_type": "markdown",
   "metadata": {},
   "source": [
    "### Save the model"
   ]
  },
  {
   "cell_type": "code",
   "execution_count": 17,
   "metadata": {},
   "outputs": [],
   "source": [
    "# Save the model\n",
    "os.chdir(root + \"/Jupyter Notebook\")\n",
    "\n",
    "model.save(\"cnn25_trained.h5\")"
   ]
  },
  {
   "cell_type": "markdown",
   "metadata": {},
   "source": [
    "## Make Predictions"
   ]
  },
  {
   "cell_type": "markdown",
   "metadata": {},
   "source": [
    "### Make a prediction on one image from the testing dataset"
   ]
  },
  {
   "cell_type": "code",
   "execution_count": 18,
   "metadata": {},
   "outputs": [
    {
     "data": {
      "image/png": "[encoded data removed]",
      "text/plain": [
       "<Figure size 432x288 with 1 Axes>"
      ]
     },
     "metadata": {
      "needs_background": "light"
     },
     "output_type": "display_data"
    }
   ],
   "source": [
    "# Select one image from the testing dataset and display it\n",
    "test_img = X_test[77, :, :, :]\n",
    "\n",
    "plt.imshow(test_img)\n",
    "plt.show()"
   ]
  },
  {
   "cell_type": "code",
   "execution_count": 19,
   "metadata": {},
   "outputs": [],
   "source": [
    "# Add the image to a list and get array representation of the list\n",
    "test_images = []\n",
    "\n",
    "test_images.append(test_img)\n",
    "test = np.array(test_images)"
   ]
  },
  {
   "cell_type": "code",
   "execution_count": 20,
   "metadata": {},
   "outputs": [
    {
     "name": "stdout",
     "output_type": "stream",
     "text": [
      "[73]: Maltese\n"
     ]
    }
   ],
   "source": [
    "# Make a prediction and map the predicted class to the dog breed\n",
    "prediction = model.predict_classes(test)\n",
    "print(f\"{prediction}: {dog_labels_categories[prediction[0]]}\")"
   ]
  },
  {
   "cell_type": "code",
   "execution_count": 21,
   "metadata": {},
   "outputs": [
    {
     "data": {
      "image/png": "[encoded data removed]",
      "text/plain": [
       "<Figure size 432x288 with 1 Axes>"
      ]
     },
     "metadata": {
      "needs_background": "light"
     },
     "output_type": "display_data"
    }
   ],
   "source": [
    "# Select another image from the testing dataset and display it\n",
    "test_img2 = X_test[154, :, :, :]\n",
    "\n",
    "plt.imshow(test_img2)\n",
    "plt.show()"
   ]
  },
  {
   "cell_type": "code",
   "execution_count": 22,
   "metadata": {},
   "outputs": [],
   "source": [
    "# Add the image to a list and get array representation of the list\n",
    "test_images2 = []\n",
    "\n",
    "test_images2.append(test_img2)\n",
    "test2 = np.array(test_images2)"
   ]
  },
  {
   "cell_type": "code",
   "execution_count": 23,
   "metadata": {},
   "outputs": [
    {
     "name": "stdout",
     "output_type": "stream",
     "text": [
      "[100]: Shih Tzu\n"
     ]
    }
   ],
   "source": [
    "# Make a prediction and map the predicted class to the dog breed\n",
    "prediction = model.predict_classes(test2)\n",
    "print(f\"{prediction}: {dog_labels_categories[prediction[0]]}\")"
   ]
  },
  {
   "cell_type": "markdown",
   "metadata": {},
   "source": [
    "### Make a prediction on a random image"
   ]
  },
  {
   "cell_type": "code",
   "execution_count": 24,
   "metadata": {},
   "outputs": [],
   "source": [
    "# Function to preprocess the image \n",
    "def prepare_image(filepath):\n",
    "    img = image.load_img(filepath, target_size=(100, 100, 3), \\\n",
    "            grayscale=False)\n",
    "    img = image.img_to_array(img)\n",
    "    img = img / 255\n",
    "    test_images = []\n",
    "    test_images.append(img)\n",
    "    test = np.array(test_images)\n",
    "    return test"
   ]
  },
  {
   "cell_type": "code",
   "execution_count": 25,
   "metadata": {},
   "outputs": [],
   "source": [
    "# Upload a random imagem and preprocess it\n",
    "os.chdir(root + \"Images\")\n",
    "\n",
    "filename = \"image5.jpg\"\n",
    "\n",
    "test = prepare_image(filename)"
   ]
  },
  {
   "cell_type": "code",
   "execution_count": 26,
   "metadata": {},
   "outputs": [
    {
     "name": "stdout",
     "output_type": "stream",
     "text": [
      "[84]: Papillion\n"
     ]
    }
   ],
   "source": [
    "# Make a prediciton and map the predicted class to the dog breed\n",
    "prediction = model.predict_classes(test)\n",
    "print(f\"{prediction}: {dog_labels_categories[prediction[0]]}\")"
   ]
  }
 ],
 "metadata": {
  "kernelspec": {
   "display_name": "Python 3",
   "language": "python",
   "name": "python3"
  },
  "language_info": {
   "codemirror_mode": {
    "name": "ipython",
    "version": 3
   },
   "file_extension": ".py",
   "mimetype": "text/x-python",
   "name": "python",
   "nbconvert_exporter": "python",
   "pygments_lexer": "ipython3",
   "version": "3.7.3"
  }
 },
 "nbformat": 4,
 "nbformat_minor": 2
}
